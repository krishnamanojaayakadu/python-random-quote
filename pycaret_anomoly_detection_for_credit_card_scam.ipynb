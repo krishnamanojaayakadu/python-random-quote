{
  "cells": [
    {
      "cell_type": "markdown",
      "metadata": {
        "id": "view-in-github",
        "colab_type": "text"
      },
      "source": [
        "<a href=\"https://colab.research.google.com/github/krishnamanojaayakadu/python-random-quote/blob/master/pycaret_anomoly_detection_for_credit_card_scam.ipynb\" target=\"_parent\"><img src=\"https://colab.research.google.com/assets/colab-badge.svg\" alt=\"Open In Colab\"/></a>"
      ]
    },
    {
      "cell_type": "markdown",
      "metadata": {
        "id": "QymKlx-GuMCT"
      },
      "source": [
        "\n",
        "supply chain and preventive maintenince"
      ]
    },
    {
      "cell_type": "markdown",
      "metadata": {
        "id": "z6qye25WqLwt"
      },
      "source": [
        "### Model PYcaret"
      ]
    },
    {
      "cell_type": "code",
      "execution_count": null,
      "metadata": {
        "id": "JSI3uwZluUUn"
      },
      "outputs": [],
      "source": [
        "!pip install pycaret\n",
        "# !pip install mlflow\n",
        "\n"
      ]
    },
    {
      "cell_type": "code",
      "execution_count": null,
      "metadata": {
        "id": "vSDZLJlT0yBT",
        "colab": {
          "base_uri": "https://localhost:8080/"
        },
        "outputId": "dd4781c1-02a6-4e6f-cd07-f0e812334bc2"
      },
      "outputs": [
        {
          "output_type": "stream",
          "name": "stdout",
          "text": [
            "Drive already mounted at /content/gdrive; to attempt to forcibly remount, call drive.mount(\"/content/gdrive\", force_remount=True).\n"
          ]
        }
      ],
      "source": [
        "from google.colab import drive\n",
        "drive.mount('/content/gdrive')\n",
        "import pandas as pd \n",
        "df=pd.read_csv('/content/gdrive/MyDrive/creditcard.csv')\n",
        "X = df.iloc[:, :-1]\n",
        "y = df.iloc[:, -1]"
      ]
    },
    {
      "cell_type": "code",
      "source": [
        "from sklearn.model_selection import train_test_split\n",
        "\n",
        "from sklearn.feature_selection import SelectKBest,mutual_info_regression\n",
        "\n",
        "selector = SelectKBest(score_func=mutual_info_regression, k=5)\n",
        "X_train_selected = selector.fit_transform(X, y)\n"
      ],
      "metadata": {
        "id": "dTZCEKij_3BL"
      },
      "execution_count": null,
      "outputs": []
    },
    {
      "cell_type": "code",
      "execution_count": null,
      "metadata": {
        "id": "G81mQJKS4g__",
        "colab": {
          "base_uri": "https://localhost:8080/",
          "height": 457
        },
        "outputId": "7286b198-279d-4655-c4cf-f4bf79811da4"
      },
      "outputs": [
        {
          "output_type": "display_data",
          "data": {
            "text/plain": [
              "<pandas.io.formats.style.Styler at 0x7f39cfa22920>"
            ],
            "text/html": [
              "<style type=\"text/css\">\n",
              "#T_1e67a_row4_col1 {\n",
              "  background-color: lightgreen;\n",
              "}\n",
              "</style>\n",
              "<table id=\"T_1e67a\" class=\"dataframe\">\n",
              "  <thead>\n",
              "    <tr>\n",
              "      <th class=\"blank level0\" >&nbsp;</th>\n",
              "      <th id=\"T_1e67a_level0_col0\" class=\"col_heading level0 col0\" >Description</th>\n",
              "      <th id=\"T_1e67a_level0_col1\" class=\"col_heading level0 col1\" >Value</th>\n",
              "    </tr>\n",
              "  </thead>\n",
              "  <tbody>\n",
              "    <tr>\n",
              "      <th id=\"T_1e67a_level0_row0\" class=\"row_heading level0 row0\" >0</th>\n",
              "      <td id=\"T_1e67a_row0_col0\" class=\"data row0 col0\" >Session id</td>\n",
              "      <td id=\"T_1e67a_row0_col1\" class=\"data row0 col1\" >8368</td>\n",
              "    </tr>\n",
              "    <tr>\n",
              "      <th id=\"T_1e67a_level0_row1\" class=\"row_heading level0 row1\" >1</th>\n",
              "      <td id=\"T_1e67a_row1_col0\" class=\"data row1 col0\" >Original data shape</td>\n",
              "      <td id=\"T_1e67a_row1_col1\" class=\"data row1 col1\" >(284807, 5)</td>\n",
              "    </tr>\n",
              "    <tr>\n",
              "      <th id=\"T_1e67a_level0_row2\" class=\"row_heading level0 row2\" >2</th>\n",
              "      <td id=\"T_1e67a_row2_col0\" class=\"data row2 col0\" >Transformed data shape</td>\n",
              "      <td id=\"T_1e67a_row2_col1\" class=\"data row2 col1\" >(284807, 5)</td>\n",
              "    </tr>\n",
              "    <tr>\n",
              "      <th id=\"T_1e67a_level0_row3\" class=\"row_heading level0 row3\" >3</th>\n",
              "      <td id=\"T_1e67a_row3_col0\" class=\"data row3 col0\" >Numeric features</td>\n",
              "      <td id=\"T_1e67a_row3_col1\" class=\"data row3 col1\" >5</td>\n",
              "    </tr>\n",
              "    <tr>\n",
              "      <th id=\"T_1e67a_level0_row4\" class=\"row_heading level0 row4\" >4</th>\n",
              "      <td id=\"T_1e67a_row4_col0\" class=\"data row4 col0\" >Preprocess</td>\n",
              "      <td id=\"T_1e67a_row4_col1\" class=\"data row4 col1\" >True</td>\n",
              "    </tr>\n",
              "    <tr>\n",
              "      <th id=\"T_1e67a_level0_row5\" class=\"row_heading level0 row5\" >5</th>\n",
              "      <td id=\"T_1e67a_row5_col0\" class=\"data row5 col0\" >Imputation type</td>\n",
              "      <td id=\"T_1e67a_row5_col1\" class=\"data row5 col1\" >simple</td>\n",
              "    </tr>\n",
              "    <tr>\n",
              "      <th id=\"T_1e67a_level0_row6\" class=\"row_heading level0 row6\" >6</th>\n",
              "      <td id=\"T_1e67a_row6_col0\" class=\"data row6 col0\" >Numeric imputation</td>\n",
              "      <td id=\"T_1e67a_row6_col1\" class=\"data row6 col1\" >mean</td>\n",
              "    </tr>\n",
              "    <tr>\n",
              "      <th id=\"T_1e67a_level0_row7\" class=\"row_heading level0 row7\" >7</th>\n",
              "      <td id=\"T_1e67a_row7_col0\" class=\"data row7 col0\" >Categorical imputation</td>\n",
              "      <td id=\"T_1e67a_row7_col1\" class=\"data row7 col1\" >mode</td>\n",
              "    </tr>\n",
              "    <tr>\n",
              "      <th id=\"T_1e67a_level0_row8\" class=\"row_heading level0 row8\" >8</th>\n",
              "      <td id=\"T_1e67a_row8_col0\" class=\"data row8 col0\" >CPU Jobs</td>\n",
              "      <td id=\"T_1e67a_row8_col1\" class=\"data row8 col1\" >-1</td>\n",
              "    </tr>\n",
              "    <tr>\n",
              "      <th id=\"T_1e67a_level0_row9\" class=\"row_heading level0 row9\" >9</th>\n",
              "      <td id=\"T_1e67a_row9_col0\" class=\"data row9 col0\" >Use GPU</td>\n",
              "      <td id=\"T_1e67a_row9_col1\" class=\"data row9 col1\" >False</td>\n",
              "    </tr>\n",
              "    <tr>\n",
              "      <th id=\"T_1e67a_level0_row10\" class=\"row_heading level0 row10\" >10</th>\n",
              "      <td id=\"T_1e67a_row10_col0\" class=\"data row10 col0\" >Log Experiment</td>\n",
              "      <td id=\"T_1e67a_row10_col1\" class=\"data row10 col1\" >False</td>\n",
              "    </tr>\n",
              "    <tr>\n",
              "      <th id=\"T_1e67a_level0_row11\" class=\"row_heading level0 row11\" >11</th>\n",
              "      <td id=\"T_1e67a_row11_col0\" class=\"data row11 col0\" >Experiment Name</td>\n",
              "      <td id=\"T_1e67a_row11_col1\" class=\"data row11 col1\" >anomaly-default-name</td>\n",
              "    </tr>\n",
              "    <tr>\n",
              "      <th id=\"T_1e67a_level0_row12\" class=\"row_heading level0 row12\" >12</th>\n",
              "      <td id=\"T_1e67a_row12_col0\" class=\"data row12 col0\" >USI</td>\n",
              "      <td id=\"T_1e67a_row12_col1\" class=\"data row12 col1\" >a5c0</td>\n",
              "    </tr>\n",
              "  </tbody>\n",
              "</table>\n"
            ]
          },
          "metadata": {}
        }
      ],
      "source": [
        "from pycaret.anomaly import *\n",
        "from pycaret.classification import compare_models\n",
        "\n",
        "#intialize the setup\n",
        "exp_ano = setup(X_train_selected)\n",
        "\n",
        "\n"
      ]
    },
    {
      "cell_type": "code",
      "source": [
        "final_model = create_model('knn')\n"
      ],
      "metadata": {
        "colab": {
          "base_uri": "https://localhost:8080/",
          "height": 17,
          "referenced_widgets": [
            "f2b8a8a090504833af45fcfc2d1af35b",
            "8bb2539f595f41adb5be008a187a638c",
            "b98704045b6d410297d7974ac1fc8c2b",
            "0bb2e61c99f54cf7ae36f032fd95531f",
            "05d2c3e7e8ad4d61b482084e01d05c15",
            "bad64fc6cd6245528ade20b859c80493",
            "0dab05776bf04f19bd54ee1b5d44e943",
            "2f566dda5d084ae1a571505b6bc9e119",
            "3293534ada274fe4a5ba9551eb3a90e1",
            "b87f6b8a53ea41c99f34b88807d44334",
            "08027c21bb52462c806de5fd0180295b"
          ]
        },
        "id": "x0HXES8N8wGG",
        "outputId": "4be1c560-2721-424c-b9c4-bdbb3b0d54d9"
      },
      "execution_count": null,
      "outputs": [
        {
          "output_type": "display_data",
          "data": {
            "text/plain": [
              "<IPython.core.display.HTML object>"
            ],
            "text/html": []
          },
          "metadata": {}
        },
        {
          "output_type": "display_data",
          "data": {
            "text/plain": [
              "<IPython.core.display.HTML object>"
            ],
            "text/html": []
          },
          "metadata": {}
        },
        {
          "output_type": "display_data",
          "data": {
            "text/plain": [
              "Processing:   0%|          | 0/3 [00:00<?, ?it/s]"
            ],
            "application/vnd.jupyter.widget-view+json": {
              "version_major": 2,
              "version_minor": 0,
              "model_id": "f2b8a8a090504833af45fcfc2d1af35b"
            }
          },
          "metadata": {
            "application/vnd.jupyter.widget-view+json": {
              "colab": {
                "custom_widget_manager": {
                  "url": "https://ssl.gstatic.com/colaboratory-static/widgets/colab-cdn-widget-manager/b3e629b1971e1542/manager.min.js"
                }
              }
            }
          }
        },
        {
          "output_type": "display_data",
          "data": {
            "text/plain": [
              "<IPython.core.display.HTML object>"
            ],
            "text/html": []
          },
          "metadata": {}
        }
      ]
    },
    {
      "cell_type": "code",
      "execution_count": null,
      "metadata": {
        "id": "wz7QBt8efS7X"
      },
      "outputs": [],
      "source": [
        "## creating a model\n",
        "\n",
        "scores = assign_model(final_model)\n"
      ]
    },
    {
      "cell_type": "code",
      "execution_count": null,
      "metadata": {
        "id": "hxZzgpZfkTlZ"
      },
      "outputs": [],
      "source": [
        "# iforest_predictions = predict_model(iforest, data = df)\n",
        "# iforest_predictions"
      ]
    },
    {
      "cell_type": "code",
      "execution_count": null,
      "metadata": {
        "colab": {
          "base_uri": "https://localhost:8080/"
        },
        "id": "X8vPMRE7maIg",
        "outputId": "1c089523-a689-481f-abee-f13da57960d1"
      },
      "outputs": [
        {
          "output_type": "stream",
          "name": "stdout",
          "text": [
            "F1 score: 0.060572069545709484\n"
          ]
        }
      ],
      "source": [
        "# set threshold\n",
        "threshold = 0.5\n",
        "\n",
        "# convert scores to labels based on threshold\n",
        "labels = (scores['Anomaly_Score'] > threshold).astype(int)\n",
        "labels[labels==1]\n",
        "# calculate F1 score\n",
        "from sklearn.metrics import f1_score\n",
        "f1 = f1_score(labels, df['Class'])\n",
        "\n",
        "print('F1 score:', f1)"
      ]
    }
  ],
  "metadata": {
    "colab": {
      "provenance": [],
      "authorship_tag": "ABX9TyNmBvdQxZUZj/e4Rz0BimeS",
      "include_colab_link": true
    },
    "kernelspec": {
      "display_name": "Python 3",
      "name": "python3"
    },
    "language_info": {
      "name": "python"
    },
    "widgets": {
      "application/vnd.jupyter.widget-state+json": {
        "f2b8a8a090504833af45fcfc2d1af35b": {
          "model_module": "@jupyter-widgets/controls",
          "model_name": "HBoxModel",
          "model_module_version": "1.5.0",
          "state": {
            "_dom_classes": [],
            "_model_module": "@jupyter-widgets/controls",
            "_model_module_version": "1.5.0",
            "_model_name": "HBoxModel",
            "_view_count": null,
            "_view_module": "@jupyter-widgets/controls",
            "_view_module_version": "1.5.0",
            "_view_name": "HBoxView",
            "box_style": "",
            "children": [
              "IPY_MODEL_8bb2539f595f41adb5be008a187a638c",
              "IPY_MODEL_b98704045b6d410297d7974ac1fc8c2b",
              "IPY_MODEL_0bb2e61c99f54cf7ae36f032fd95531f"
            ],
            "layout": "IPY_MODEL_05d2c3e7e8ad4d61b482084e01d05c15"
          }
        },
        "8bb2539f595f41adb5be008a187a638c": {
          "model_module": "@jupyter-widgets/controls",
          "model_name": "HTMLModel",
          "model_module_version": "1.5.0",
          "state": {
            "_dom_classes": [],
            "_model_module": "@jupyter-widgets/controls",
            "_model_module_version": "1.5.0",
            "_model_name": "HTMLModel",
            "_view_count": null,
            "_view_module": "@jupyter-widgets/controls",
            "_view_module_version": "1.5.0",
            "_view_name": "HTMLView",
            "description": "",
            "description_tooltip": null,
            "layout": "IPY_MODEL_bad64fc6cd6245528ade20b859c80493",
            "placeholder": "​",
            "style": "IPY_MODEL_0dab05776bf04f19bd54ee1b5d44e943",
            "value": "Processing:  67%"
          }
        },
        "b98704045b6d410297d7974ac1fc8c2b": {
          "model_module": "@jupyter-widgets/controls",
          "model_name": "FloatProgressModel",
          "model_module_version": "1.5.0",
          "state": {
            "_dom_classes": [],
            "_model_module": "@jupyter-widgets/controls",
            "_model_module_version": "1.5.0",
            "_model_name": "FloatProgressModel",
            "_view_count": null,
            "_view_module": "@jupyter-widgets/controls",
            "_view_module_version": "1.5.0",
            "_view_name": "ProgressView",
            "bar_style": "",
            "description": "",
            "description_tooltip": null,
            "layout": "IPY_MODEL_2f566dda5d084ae1a571505b6bc9e119",
            "max": 3,
            "min": 0,
            "orientation": "horizontal",
            "style": "IPY_MODEL_3293534ada274fe4a5ba9551eb3a90e1",
            "value": 3
          }
        },
        "0bb2e61c99f54cf7ae36f032fd95531f": {
          "model_module": "@jupyter-widgets/controls",
          "model_name": "HTMLModel",
          "model_module_version": "1.5.0",
          "state": {
            "_dom_classes": [],
            "_model_module": "@jupyter-widgets/controls",
            "_model_module_version": "1.5.0",
            "_model_name": "HTMLModel",
            "_view_count": null,
            "_view_module": "@jupyter-widgets/controls",
            "_view_module_version": "1.5.0",
            "_view_name": "HTMLView",
            "description": "",
            "description_tooltip": null,
            "layout": "IPY_MODEL_b87f6b8a53ea41c99f34b88807d44334",
            "placeholder": "​",
            "style": "IPY_MODEL_08027c21bb52462c806de5fd0180295b",
            "value": " 2/3 [00:08&lt;00:04,  4.17s/it]"
          }
        },
        "05d2c3e7e8ad4d61b482084e01d05c15": {
          "model_module": "@jupyter-widgets/base",
          "model_name": "LayoutModel",
          "model_module_version": "1.2.0",
          "state": {
            "_model_module": "@jupyter-widgets/base",
            "_model_module_version": "1.2.0",
            "_model_name": "LayoutModel",
            "_view_count": null,
            "_view_module": "@jupyter-widgets/base",
            "_view_module_version": "1.2.0",
            "_view_name": "LayoutView",
            "align_content": null,
            "align_items": null,
            "align_self": null,
            "border": null,
            "bottom": null,
            "display": null,
            "flex": null,
            "flex_flow": null,
            "grid_area": null,
            "grid_auto_columns": null,
            "grid_auto_flow": null,
            "grid_auto_rows": null,
            "grid_column": null,
            "grid_gap": null,
            "grid_row": null,
            "grid_template_areas": null,
            "grid_template_columns": null,
            "grid_template_rows": null,
            "height": null,
            "justify_content": null,
            "justify_items": null,
            "left": null,
            "margin": null,
            "max_height": null,
            "max_width": null,
            "min_height": null,
            "min_width": null,
            "object_fit": null,
            "object_position": null,
            "order": null,
            "overflow": null,
            "overflow_x": null,
            "overflow_y": null,
            "padding": null,
            "right": null,
            "top": null,
            "visibility": "hidden",
            "width": null
          }
        },
        "bad64fc6cd6245528ade20b859c80493": {
          "model_module": "@jupyter-widgets/base",
          "model_name": "LayoutModel",
          "model_module_version": "1.2.0",
          "state": {
            "_model_module": "@jupyter-widgets/base",
            "_model_module_version": "1.2.0",
            "_model_name": "LayoutModel",
            "_view_count": null,
            "_view_module": "@jupyter-widgets/base",
            "_view_module_version": "1.2.0",
            "_view_name": "LayoutView",
            "align_content": null,
            "align_items": null,
            "align_self": null,
            "border": null,
            "bottom": null,
            "display": null,
            "flex": null,
            "flex_flow": null,
            "grid_area": null,
            "grid_auto_columns": null,
            "grid_auto_flow": null,
            "grid_auto_rows": null,
            "grid_column": null,
            "grid_gap": null,
            "grid_row": null,
            "grid_template_areas": null,
            "grid_template_columns": null,
            "grid_template_rows": null,
            "height": null,
            "justify_content": null,
            "justify_items": null,
            "left": null,
            "margin": null,
            "max_height": null,
            "max_width": null,
            "min_height": null,
            "min_width": null,
            "object_fit": null,
            "object_position": null,
            "order": null,
            "overflow": null,
            "overflow_x": null,
            "overflow_y": null,
            "padding": null,
            "right": null,
            "top": null,
            "visibility": null,
            "width": null
          }
        },
        "0dab05776bf04f19bd54ee1b5d44e943": {
          "model_module": "@jupyter-widgets/controls",
          "model_name": "DescriptionStyleModel",
          "model_module_version": "1.5.0",
          "state": {
            "_model_module": "@jupyter-widgets/controls",
            "_model_module_version": "1.5.0",
            "_model_name": "DescriptionStyleModel",
            "_view_count": null,
            "_view_module": "@jupyter-widgets/base",
            "_view_module_version": "1.2.0",
            "_view_name": "StyleView",
            "description_width": ""
          }
        },
        "2f566dda5d084ae1a571505b6bc9e119": {
          "model_module": "@jupyter-widgets/base",
          "model_name": "LayoutModel",
          "model_module_version": "1.2.0",
          "state": {
            "_model_module": "@jupyter-widgets/base",
            "_model_module_version": "1.2.0",
            "_model_name": "LayoutModel",
            "_view_count": null,
            "_view_module": "@jupyter-widgets/base",
            "_view_module_version": "1.2.0",
            "_view_name": "LayoutView",
            "align_content": null,
            "align_items": null,
            "align_self": null,
            "border": null,
            "bottom": null,
            "display": null,
            "flex": null,
            "flex_flow": null,
            "grid_area": null,
            "grid_auto_columns": null,
            "grid_auto_flow": null,
            "grid_auto_rows": null,
            "grid_column": null,
            "grid_gap": null,
            "grid_row": null,
            "grid_template_areas": null,
            "grid_template_columns": null,
            "grid_template_rows": null,
            "height": null,
            "justify_content": null,
            "justify_items": null,
            "left": null,
            "margin": null,
            "max_height": null,
            "max_width": null,
            "min_height": null,
            "min_width": null,
            "object_fit": null,
            "object_position": null,
            "order": null,
            "overflow": null,
            "overflow_x": null,
            "overflow_y": null,
            "padding": null,
            "right": null,
            "top": null,
            "visibility": null,
            "width": null
          }
        },
        "3293534ada274fe4a5ba9551eb3a90e1": {
          "model_module": "@jupyter-widgets/controls",
          "model_name": "ProgressStyleModel",
          "model_module_version": "1.5.0",
          "state": {
            "_model_module": "@jupyter-widgets/controls",
            "_model_module_version": "1.5.0",
            "_model_name": "ProgressStyleModel",
            "_view_count": null,
            "_view_module": "@jupyter-widgets/base",
            "_view_module_version": "1.2.0",
            "_view_name": "StyleView",
            "bar_color": null,
            "description_width": ""
          }
        },
        "b87f6b8a53ea41c99f34b88807d44334": {
          "model_module": "@jupyter-widgets/base",
          "model_name": "LayoutModel",
          "model_module_version": "1.2.0",
          "state": {
            "_model_module": "@jupyter-widgets/base",
            "_model_module_version": "1.2.0",
            "_model_name": "LayoutModel",
            "_view_count": null,
            "_view_module": "@jupyter-widgets/base",
            "_view_module_version": "1.2.0",
            "_view_name": "LayoutView",
            "align_content": null,
            "align_items": null,
            "align_self": null,
            "border": null,
            "bottom": null,
            "display": null,
            "flex": null,
            "flex_flow": null,
            "grid_area": null,
            "grid_auto_columns": null,
            "grid_auto_flow": null,
            "grid_auto_rows": null,
            "grid_column": null,
            "grid_gap": null,
            "grid_row": null,
            "grid_template_areas": null,
            "grid_template_columns": null,
            "grid_template_rows": null,
            "height": null,
            "justify_content": null,
            "justify_items": null,
            "left": null,
            "margin": null,
            "max_height": null,
            "max_width": null,
            "min_height": null,
            "min_width": null,
            "object_fit": null,
            "object_position": null,
            "order": null,
            "overflow": null,
            "overflow_x": null,
            "overflow_y": null,
            "padding": null,
            "right": null,
            "top": null,
            "visibility": null,
            "width": null
          }
        },
        "08027c21bb52462c806de5fd0180295b": {
          "model_module": "@jupyter-widgets/controls",
          "model_name": "DescriptionStyleModel",
          "model_module_version": "1.5.0",
          "state": {
            "_model_module": "@jupyter-widgets/controls",
            "_model_module_version": "1.5.0",
            "_model_name": "DescriptionStyleModel",
            "_view_count": null,
            "_view_module": "@jupyter-widgets/base",
            "_view_module_version": "1.2.0",
            "_view_name": "StyleView",
            "description_width": ""
          }
        }
      }
    }
  },
  "nbformat": 4,
  "nbformat_minor": 0
}